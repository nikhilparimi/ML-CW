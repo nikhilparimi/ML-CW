{
 "cells": [
  {
   "cell_type": "markdown",
   "id": "0825f6db-da53-44c2-903d-e1404e7344bd",
   "metadata": {},
   "source": [
    "# Sequence Labelling data (20 marks)"
   ]
  },
  {
   "cell_type": "code",
   "execution_count": 1,
   "id": "26069879-46bb-4e3c-a4a4-e7e835901421",
   "metadata": {},
   "outputs": [],
   "source": [
    "#Import Libraries\n",
    "\n",
    "import os\n",
    "import numpy as np\n",
    "import pandas as pd  # use pandas to load data from CSV files\n",
    "from hmmlearn import hmm  # We recommend using this class if building an HMM\n",
    "from sklearn.model_selection import train_test_split\n",
    "from sklearn.preprocessing import StandardScaler\n",
    "from sklearn.metrics import accuracy_score\n",
    "import matplotlib.pyplot as plt\n",
    "import seaborn as sns"
   ]
  },
  {
   "cell_type": "markdown",
   "id": "68242a9e-f3d3-48e4-a4fc-5d93bf3c0ae9",
   "metadata": {},
   "source": [
    "## Loading the data:"
   ]
  },
  {
   "cell_type": "code",
   "execution_count": 2,
   "id": "ca21cdac-f2b6-4274-b03a-f8afce4623f3",
   "metadata": {},
   "outputs": [],
   "source": [
    "# Loading the data\n",
    "\n",
    "data_path = \"activity_recognition_dataset/S1_Dataset\"\n",
    "files = os.listdir(data_path)\n",
    "\n",
    "combined_data = []\n",
    "\n",
    "for file in files:    \n",
    "    if file == \"README.txt\":\n",
    "        continue\n",
    "    \n",
    "    try:\n",
    "        # load a single sequence from the file (Dataframe)\n",
    "        # The CSV files have columns without a header, so header=None is used\n",
    "        seq_dataframe = pd.read_csv(os.path.join(data_path, file), header=None, names=[\"time\", \"frontal acc\", \"vertical acc\", \"lateral acc\", \"antenna ID\", \"RSSI\", \"phase\", \"frequency\", \"label\"])\n",
    "        \n",
    "        # put the ID of the sequence into the dataframe as an EXTRA COLUMN equal to the filename\n",
    "        seq_dataframe['seqID'] = file  # use filename as ID\n",
    "        combined_data.append(seq_dataframe)  # put the data frame into a list\n",
    "    except:\n",
    "        print(f\"Could not load file {file}. Skipping.\")"
   ]
  },
  {
   "cell_type": "code",
   "execution_count": 3,
   "id": "403dc222-75d9-4586-96dc-50e2b6f73d8f",
   "metadata": {},
   "outputs": [],
   "source": [
    "# Sequence Labelling\n",
    "\n",
    "# the pandas dataframe stores data in a table with headers\n",
    "input_cols = [\"frontal acc\", \"vertical acc\", \"lateral acc\", \"RSSI\", \"phase\", \"frequency\"]  # column headers for the input features\n",
    "output_col = \"label\"  # column header for the output label\n",
    "\n",
    "# get the relevant columns from the pandas dataframes and convert to numpy arrays\n",
    "X_by_seq = []  # store a list of numpy arrays containing the input features for each sequence\n",
    "y_by_seq = []  # store a list of 1-D numpy arrays containing the target activity labels for each sequence\n",
    "\n",
    "for seq_table in combined_data:\n",
    "    X_by_seq.append(seq_table[input_cols].values)\n",
    "    y_by_seq.append(seq_table[output_col].values - 1)    # subtract one from the label so that labels start from 0\n",
    "    \n",
    "n_states = np.unique(np.concatenate(y_by_seq)).size  # how many classes/states are there?"
   ]
  },
  {
   "cell_type": "code",
   "execution_count": 4,
   "id": "4009ec81-42b7-4d21-ae7f-611f83c3ef3c",
   "metadata": {},
   "outputs": [],
   "source": [
    "# create train/test split. Sequences are kept complete.\n",
    "X_by_seq_tr, X_by_seq_test, y_by_seq_tr, y_by_seq_test = train_test_split(X_by_seq, y_by_seq, test_size=0.2, random_state=21)  # You may wish to make further splits of the data or to modify this split."
   ]
  },
  {
   "cell_type": "markdown",
   "id": "f25f3fb1-4247-4d80-8d7f-8a8261c64b58",
   "metadata": {},
   "source": [
    "## Standardise data:"
   ]
  },
  {
   "cell_type": "code",
   "execution_count": 5,
   "id": "c505e0dd-0f3e-4f3f-99cc-8418ca9887d8",
   "metadata": {},
   "outputs": [
    {
     "name": "stdout",
     "output_type": "stream",
     "text": [
      "[-3.53216540e-16  2.68884563e-17 -9.77762048e-18  4.60159264e-16\n",
      "  3.75827287e-16 -3.66232997e-15]\n",
      "[1. 1. 1. 1. 1. 1.]\n"
     ]
    }
   ],
   "source": [
    "# Standardise input data\n",
    "'''\n",
    "Standardise X_by_seq_tr\n",
    "'''\n",
    "# Concatenate arrays\n",
    "concatenated_data = np.concatenate(X_by_seq_tr, axis=0)\n",
    "\n",
    "# Apply StandardScaler\n",
    "scaler = StandardScaler()\n",
    "standardized_data = scaler.fit_transform(concatenated_data)\n",
    "\n",
    "# Reshape the standardized data back into the original structure\n",
    "start = 0\n",
    "X_by_seq_tr_scaled = []\n",
    "for array in X_by_seq_tr:\n",
    "    end = start + len(array)\n",
    "    X_by_seq_tr_scaled.append(standardized_data[start:end])\n",
    "    start = end\n",
    "\n",
    "squashed = np.concatenate(X_by_seq_tr_scaled, axis=0)\n",
    "# print(squashed)\n",
    "print(np.mean(squashed, axis=0)) # [0, 0, 0, 0, 0, 0]\n",
    "print(np.var(squashed, axis=0)) # [1. 1. 1. 1. 1. 1.]"
   ]
  },
  {
   "cell_type": "code",
   "execution_count": 6,
   "id": "2d7c9d9c-c76b-4bce-a3fc-b7b1558f0c86",
   "metadata": {},
   "outputs": [
    {
     "name": "stdout",
     "output_type": "stream",
     "text": [
      "[[ 0.1657036   0.56393296 -0.1494588   0.18584669  1.04858644  1.82950928]\n",
      " [ 0.1657036   0.56393296 -0.1494588   0.05328611  1.12520105  1.53299713]\n",
      " [ 0.7655184  -1.98622922  0.32160416 -1.67000136 -0.84097796 -0.54258795]\n",
      " ...\n",
      " [ 0.67074562 -2.08155676 -0.20179862  0.18584669  0.86513188  1.82950928]\n",
      " [ 0.67074562 -2.08155676 -0.20179862  0.58352841  0.85369883  1.53299713]\n",
      " [ 1.49166101 -1.93855507  0.26926434 -0.34439561 -1.33619137 -0.2460758 ]]\n",
      "[-9.51672842e-18 -2.09368025e-16 -1.90334568e-17 -3.33085495e-16\n",
      " -6.18587347e-17 -3.42126387e-15]\n",
      "[1. 1. 1. 1. 1. 1.]\n"
     ]
    }
   ],
   "source": [
    "# Standardise input data\n",
    "'''\n",
    "Standardise X_by_seq_test\n",
    "'''\n",
    "# Concatenate arrays\n",
    "concatenated_data2 = np.concatenate(X_by_seq_test, axis=0)\n",
    "\n",
    "# Apply StandardScaler\n",
    "scaler = StandardScaler()\n",
    "standardized_data2 = scaler.fit_transform(concatenated_data2)\n",
    "\n",
    "# Reshape the standardized data back into the original structure\n",
    "start = 0\n",
    "X_by_seq_test_scaled = []\n",
    "for array in X_by_seq_test:\n",
    "    end = start + len(array)\n",
    "    X_by_seq_test_scaled.append(standardized_data2[start:end])\n",
    "    start = end\n",
    "\n",
    "squashed = np.concatenate(X_by_seq_test_scaled, axis=0)\n",
    "print(squashed)\n",
    "print(np.mean(squashed, axis=0))\n",
    "print(np.var(squashed, axis=0))"
   ]
  },
  {
   "cell_type": "code",
   "execution_count": 7,
   "id": "d4842d45-6ebf-455d-a95d-181a7f8f4f64",
   "metadata": {},
   "outputs": [],
   "source": [
    "# Record which observations occur given each state (activity label)\n",
    "X_given_y = [[] for _ in range(n_states)]  # empty list where we will record the observations that occur given each activity label\n",
    "# print(X_given_y)\n",
    "for s, X_seq in enumerate(X_by_seq_tr_scaled): # X_by_seq_tr_scaled is a list of 2-D numpy arrays => x_seq = 2D numpy array where each row is an observation\n",
    "    for i in range(X_seq.shape[0]): # iterating over each observation in a file (X_seq contains a list of all observations in a file)\n",
    "        state_i = y_by_seq_tr[s][i] # corresponding label for the observation\n",
    "        X_given_y[state_i].append(X_seq[i, :][None, :]) # X_given_y[state_i] = all the rows of the ith observation in the file X_seq\n"
   ]
  },
  {
   "cell_type": "code",
   "execution_count": 8,
   "id": "5fb8030e-9a9a-42e9-9e0a-01886d9df5b7",
   "metadata": {},
   "outputs": [
    {
     "name": "stdout",
     "output_type": "stream",
     "text": [
      "[[-1.1354286   1.2117892   0.29115027 -0.12662483 -0.05700205 -0.01892787]\n",
      " [-0.64958174  1.06748664  0.34368337  0.04911889  0.09143578 -0.07144643]\n",
      " [ 0.70595427 -0.78837478 -0.18837384 -0.00592088  0.01690584  0.0147193 ]\n",
      " [-1.47128222  1.27910035  0.09505739  0.89356352 -0.06108273  0.06522177]]\n",
      "\n",
      "[[0.29504857 0.04589795 0.41766505 0.36388899 1.00718513 0.98939068]\n",
      " [0.37447701 0.04472122 0.37507674 0.66798853 0.98968427 1.13309524]\n",
      " [0.17160318 0.07212618 1.28622768 1.18536971 0.99944052 0.98577839]\n",
      " [0.27784271 0.06603066 0.65098122 2.48747066 0.92990847 0.9792632 ]]\n"
     ]
    }
   ],
   "source": [
    "# Record the mean feature values for observations in each state\n",
    "means = np.zeros((n_states, len(input_cols)))\n",
    "# print(means)\n",
    "\n",
    "# Record the variance of feature values for observations in each state\n",
    "diagonal_covars = np.zeros((n_states, len(input_cols)))\n",
    "# print(diagonal_covars)\n",
    "\n",
    "for state in range(n_states):\n",
    "    means[state] = np.mean(X_given_y[state], axis=0)\n",
    "    diagonal_covars[state, :] = np.var(X_given_y[state], axis=0)\n",
    "\n",
    "print(means)\n",
    "print()\n",
    "print(diagonal_covars)"
   ]
  },
  {
   "cell_type": "code",
   "execution_count": 9,
   "id": "a8dd1f0b-71c2-4452-a4e8-833d0bf4e7b3",
   "metadata": {},
   "outputs": [
    {
     "name": "stdout",
     "output_type": "stream",
     "text": [
      "[0, 3, 2, 0, 3, 3, 3, 0, 0, 0, 0, 0, 1, 3, 3, 3, 3, 2, 2, 2, 2, 2, 2, 1, 2, 3, 3, 0, 3, 2, 3, 2, 2, 2, 1, 0, 0, 0, 0, 0, 3, 3, 3, 3, 0, 0, 0, 0, 3, 3, 3, 3, 3, 3, 2, 0, 0, 0, 3, 3]\n"
     ]
    }
   ],
   "source": [
    "# 60 1-D arrays corresponding to the label column in each file\n",
    "# (all values have 1 subtracted from them)\n",
    "# print(y_by_seq[:][0])\n",
    "first_elements = [arr[0] for arr in y_by_seq]\n",
    "\n",
    "print(first_elements)\n",
    "# print(y_by_seq)\n",
    "# print(X_by_seq)\n",
    "# 60 Nx6 arrays, where N is the number of rows in a file\n",
    "# Each of the 60 arrays corresponding to the data in each file from the columns specified above:\n",
    "# [\"frontal acc\", \"vertical acc\", \"lateral acc\", \"RSSI\", \"phase\", \"frequency\"]\n",
    "\n",
    "# print(n_states) # 4 states\n",
    "# combined_data: all data as is with name of file as an additional column"
   ]
  },
  {
   "cell_type": "code",
   "execution_count": 10,
   "id": "814dbaff-140c-41f6-9b1f-1e8f730e4b65",
   "metadata": {},
   "outputs": [
    {
     "name": "stdout",
     "output_type": "stream",
     "text": [
      "[20  3 13 24]\n",
      "\n",
      "start_prob: [0.33333333 0.05       0.21666667 0.4       ]\n"
     ]
    }
   ],
   "source": [
    "# Calculating start probabilities (pi)\n",
    "counts = np.bincount(np.array(first_elements))\n",
    "occurrences = counts[0:4]  # Assuming you want counts for values 0, 1, 2, and 3\n",
    "print(occurrences)\n",
    "\n",
    "start_prob = occurrences/occurrences.sum()\n",
    "print(\"\\nstart_prob:\",start_prob)"
   ]
  },
  {
   "cell_type": "code",
   "execution_count": 11,
   "id": "6c57a959-bd3a-44a8-9407-865c64165c24",
   "metadata": {},
   "outputs": [
    {
     "name": "stdout",
     "output_type": "stream",
     "text": [
      "trans_mat:\n",
      " [[2.86654458e-01 0.00000000e+00 1.37346915e-03 1.06825379e-03]\n",
      " [1.90759605e-05 8.25607569e-02 9.53798024e-05 8.20266300e-04]\n",
      " [1.14455763e-03 1.90759605e-05 5.89103811e-01 4.95974972e-04]\n",
      " [1.03010187e-03 9.34722063e-04 2.09835565e-04 3.44702606e-02]]\n"
     ]
    },
    {
     "data": {
      "text/plain": [
       "array([0.28665446, 0.        , 0.00137347, 0.00106825])"
      ]
     },
     "execution_count": 11,
     "metadata": {},
     "output_type": "execute_result"
    }
   ],
   "source": [
    "# Calculating transition probabilities (A)\n",
    "data = y_by_seq\n",
    "\n",
    "unique_values = np.unique(np.concatenate(data))\n",
    "num_values = len(unique_values)\n",
    "\n",
    "transition_matrices = []\n",
    "\n",
    "for array in data:\n",
    "    transition_mat = np.zeros((num_values, num_values), dtype=int)\n",
    "    for i in range(1, len(array)):\n",
    "        prev_value = np.where(unique_values == array[i - 1])[0][0]\n",
    "        current_value = np.where(unique_values == array[i])[0][0]\n",
    "        transition_mat[prev_value, current_value] += 1\n",
    "    transition_matrices.append(transition_mat)\n",
    "\n",
    "# print(transition_matrices)\n",
    "sum_transition_matrix = np.sum(transition_matrices, axis=0)\n",
    "# print(sum_transition_matrix)\n",
    "# print(sum_transition_matrix.sum())\n",
    "\n",
    "trans_mat = sum_transition_matrix / sum_transition_matrix.sum()\n",
    "\n",
    "print(\"trans_mat:\\n\",trans_mat)\n",
    "trans_mat[0]"
   ]
  },
  {
   "cell_type": "markdown",
   "id": "a8528ccc-1562-4228-9c77-f3e6911a3d77",
   "metadata": {},
   "source": [
    "## Training a sequence labeller"
   ]
  },
  {
   "cell_type": "code",
   "execution_count": 12,
   "id": "cbceabf1-a840-482a-a414-0ef7b2ec6856",
   "metadata": {},
   "outputs": [],
   "source": [
    "# Just to ensure no rounding errors such as:\n",
    "# ValueError: transmat_ rows must sum to 1 (got [0.28909618 0.08349548 0.59076342 0.03664492])\n",
    "# The value above actually is equal to 1, but still results in an error\n",
    "trans_mat_norm = trans_mat / trans_mat.sum(axis=1, keepdims=True)\n",
    "# print(trans_mat_norm)\n",
    "# print()\n",
    "# print(trans_mat)\n",
    "\n",
    "n_components = 4\n",
    "model = hmm.GaussianHMM(n_components=n_components, covariance_type=\"diag\", init_params='')\n",
    "model.startprob_ = start_prob\n",
    "model.transmat_ = trans_mat_norm\n",
    "model.means_ = means\n",
    "model.covars_ = diagonal_covars"
   ]
  },
  {
   "cell_type": "code",
   "execution_count": 13,
   "id": "37cecfb9-c0ab-4425-b75e-6f4fc1feecd9",
   "metadata": {},
   "outputs": [
    {
     "data": {
      "text/html": [
       "<style>#sk-container-id-1 {color: black;background-color: white;}#sk-container-id-1 pre{padding: 0;}#sk-container-id-1 div.sk-toggleable {background-color: white;}#sk-container-id-1 label.sk-toggleable__label {cursor: pointer;display: block;width: 100%;margin-bottom: 0;padding: 0.3em;box-sizing: border-box;text-align: center;}#sk-container-id-1 label.sk-toggleable__label-arrow:before {content: \"▸\";float: left;margin-right: 0.25em;color: #696969;}#sk-container-id-1 label.sk-toggleable__label-arrow:hover:before {color: black;}#sk-container-id-1 div.sk-estimator:hover label.sk-toggleable__label-arrow:before {color: black;}#sk-container-id-1 div.sk-toggleable__content {max-height: 0;max-width: 0;overflow: hidden;text-align: left;background-color: #f0f8ff;}#sk-container-id-1 div.sk-toggleable__content pre {margin: 0.2em;color: black;border-radius: 0.25em;background-color: #f0f8ff;}#sk-container-id-1 input.sk-toggleable__control:checked~div.sk-toggleable__content {max-height: 200px;max-width: 100%;overflow: auto;}#sk-container-id-1 input.sk-toggleable__control:checked~label.sk-toggleable__label-arrow:before {content: \"▾\";}#sk-container-id-1 div.sk-estimator input.sk-toggleable__control:checked~label.sk-toggleable__label {background-color: #d4ebff;}#sk-container-id-1 div.sk-label input.sk-toggleable__control:checked~label.sk-toggleable__label {background-color: #d4ebff;}#sk-container-id-1 input.sk-hidden--visually {border: 0;clip: rect(1px 1px 1px 1px);clip: rect(1px, 1px, 1px, 1px);height: 1px;margin: -1px;overflow: hidden;padding: 0;position: absolute;width: 1px;}#sk-container-id-1 div.sk-estimator {font-family: monospace;background-color: #f0f8ff;border: 1px dotted black;border-radius: 0.25em;box-sizing: border-box;margin-bottom: 0.5em;}#sk-container-id-1 div.sk-estimator:hover {background-color: #d4ebff;}#sk-container-id-1 div.sk-parallel-item::after {content: \"\";width: 100%;border-bottom: 1px solid gray;flex-grow: 1;}#sk-container-id-1 div.sk-label:hover label.sk-toggleable__label {background-color: #d4ebff;}#sk-container-id-1 div.sk-serial::before {content: \"\";position: absolute;border-left: 1px solid gray;box-sizing: border-box;top: 0;bottom: 0;left: 50%;z-index: 0;}#sk-container-id-1 div.sk-serial {display: flex;flex-direction: column;align-items: center;background-color: white;padding-right: 0.2em;padding-left: 0.2em;position: relative;}#sk-container-id-1 div.sk-item {position: relative;z-index: 1;}#sk-container-id-1 div.sk-parallel {display: flex;align-items: stretch;justify-content: center;background-color: white;position: relative;}#sk-container-id-1 div.sk-item::before, #sk-container-id-1 div.sk-parallel-item::before {content: \"\";position: absolute;border-left: 1px solid gray;box-sizing: border-box;top: 0;bottom: 0;left: 50%;z-index: -1;}#sk-container-id-1 div.sk-parallel-item {display: flex;flex-direction: column;z-index: 1;position: relative;background-color: white;}#sk-container-id-1 div.sk-parallel-item:first-child::after {align-self: flex-end;width: 50%;}#sk-container-id-1 div.sk-parallel-item:last-child::after {align-self: flex-start;width: 50%;}#sk-container-id-1 div.sk-parallel-item:only-child::after {width: 0;}#sk-container-id-1 div.sk-dashed-wrapped {border: 1px dashed gray;margin: 0 0.4em 0.5em 0.4em;box-sizing: border-box;padding-bottom: 0.4em;background-color: white;}#sk-container-id-1 div.sk-label label {font-family: monospace;font-weight: bold;display: inline-block;line-height: 1.2em;}#sk-container-id-1 div.sk-label-container {text-align: center;}#sk-container-id-1 div.sk-container {/* jupyter's `normalize.less` sets `[hidden] { display: none; }` but bootstrap.min.css set `[hidden] { display: none !important; }` so we also need the `!important` here to be able to override the default hidden behavior on the sphinx rendered scikit-learn.org. See: https://github.com/scikit-learn/scikit-learn/issues/21755 */display: inline-block !important;position: relative;}#sk-container-id-1 div.sk-text-repr-fallback {display: none;}</style><div id=\"sk-container-id-1\" class=\"sk-top-container\"><div class=\"sk-text-repr-fallback\"><pre>GaussianHMM(init_params=&#x27;&#x27;, n_components=4)</pre><b>In a Jupyter environment, please rerun this cell to show the HTML representation or trust the notebook. <br />On GitHub, the HTML representation is unable to render, please try loading this page with nbviewer.org.</b></div><div class=\"sk-container\" hidden><div class=\"sk-item\"><div class=\"sk-estimator sk-toggleable\"><input class=\"sk-toggleable__control sk-hidden--visually\" id=\"sk-estimator-id-1\" type=\"checkbox\" checked><label for=\"sk-estimator-id-1\" class=\"sk-toggleable__label sk-toggleable__label-arrow\">GaussianHMM</label><div class=\"sk-toggleable__content\"><pre>GaussianHMM(init_params=&#x27;&#x27;, n_components=4)</pre></div></div></div></div></div>"
      ],
      "text/plain": [
       "GaussianHMM(init_params='', n_components=4)"
      ]
     },
     "execution_count": 13,
     "metadata": {},
     "output_type": "execute_result"
    }
   ],
   "source": [
    "# Training the GaussianHMM model:\n",
    "\n",
    "# Lengths of each of the sequences\n",
    "sequence_lengths = [len(seq) for seq in X_by_seq_tr_scaled]\n",
    "# print(sequence_lengths)\n",
    "\n",
    "# Train the model using fit method and providing lengths\n",
    "model.fit(np.vstack(X_by_seq_tr_scaled), lengths=sequence_lengths)"
   ]
  },
  {
   "cell_type": "code",
   "execution_count": 14,
   "id": "8375b571-8c1b-4989-9d87-dceb00f5de6d",
   "metadata": {},
   "outputs": [
    {
     "name": "stdout",
     "output_type": "stream",
     "text": [
      "Accuracy: 0.6606395446174451\n"
     ]
    }
   ],
   "source": [
    "# Evaluating results on test set\n",
    "\n",
    "# Make predictions on the test set using predict and storing them in a similar format to y_by_seq_test\n",
    "y_pred = [model.predict(seq) for seq in X_by_seq_test_scaled]\n",
    "\n",
    "\n",
    "# Flatten the true labels\n",
    "true_labels_flat = [label for seq in y_by_seq_test for label in seq]\n",
    "\n",
    "# Flatten the predicted labels\n",
    "predicted_labels_flat = [label for seq in y_pred for label in seq]\n",
    "\n",
    "# Calculate accuracy\n",
    "accuracy = accuracy_score(true_labels_flat, predicted_labels_flat)\n",
    "\n",
    "print(f\"Accuracy: {accuracy}\")\n",
    "\n",
    "# Evaluate the accuracy\n",
    "# accuracy = accuracy_score(y_by_seq_test, y_pred)\n",
    "# print(f\"Accuracy: {accuracy}\")"
   ]
  },
  {
   "cell_type": "code",
   "execution_count": 15,
   "id": "d9a22b97-0f84-4710-93fa-bf1167e260e0",
   "metadata": {},
   "outputs": [],
   "source": [
    "total_samples = 0\n",
    "correct_pred = 0\n",
    "\n",
    "for true_labels, predicted_labels in zip(y_by_seq_test, y_pred):\n",
    "#     print(\"True Labels:\", true_labels)\n",
    "#     print(\"Predicted Labels:\", predicted_labels)\n",
    "    a = true_labels==predicted_labels\n",
    "#     print(a)\n",
    "#     print(\"Length of sequence:\", len(predicted_labels))\n",
    "#     print(\"Number of trues:\", sum(a))\n",
    "    total_samples += len(predicted_labels)\n",
    "    correct_pred += sum(a)\n",
    "#     print(\"---\")"
   ]
  },
  {
   "cell_type": "code",
   "execution_count": 16,
   "id": "1f999c3c-7ee4-425e-8022-636909183926",
   "metadata": {},
   "outputs": [
    {
     "name": "stdout",
     "output_type": "stream",
     "text": [
      "3946\n",
      "5973\n",
      "Accuracy: 0.6606395446174451\n"
     ]
    }
   ],
   "source": [
    "print(correct_pred)\n",
    "print(total_samples)\n",
    "print(\"Accuracy:\", correct_pred/total_samples)"
   ]
  },
  {
   "cell_type": "markdown",
   "id": "438c8ffa-1a96-46a8-83b7-a54e6d16f1e6",
   "metadata": {},
   "source": [
    "## Plot a transition matrix"
   ]
  },
  {
   "cell_type": "code",
   "execution_count": 17,
   "id": "2c171e72-2947-4abf-b38b-ce4be52aad5a",
   "metadata": {},
   "outputs": [
    {
     "data": {
      "image/png": "[encoded data removed]",
      "text/plain": [
       "<Figure size 800x600 with 2 Axes>"
      ]
     },
     "metadata": {},
     "output_type": "display_data"
    }
   ],
   "source": [
    "# Assuming trans_mat_norm is your transition matrix\n",
    "# trans_mat_norm\n",
    "\n",
    "# Plot the heatmap\n",
    "plt.figure(figsize=(8, 6))\n",
    "sns.heatmap(trans_mat_norm, annot=False, cmap=\"Blues\")\n",
    "\n",
    "# Annotate each cell individually\n",
    "for i in range(trans_mat_norm.shape[0]):\n",
    "    for j in range(trans_mat_norm.shape[1]):\n",
    "        plt.text(j + 0.5, i + 0.5, f'{trans_mat_norm[i, j]:.5f}',\n",
    "                 ha='center', va='center', fontsize=10, color='black')\n",
    "\n",
    "plt.title('Transition Matrix')\n",
    "plt.xlabel('Next State')\n",
    "plt.ylabel('Current State')\n",
    "plt.show()\n"
   ]
  },
  {
   "cell_type": "markdown",
   "id": "2bb8e3fd-386d-4b33-8b20-7c30f1b1b625",
   "metadata": {},
   "source": [
    "## Identify any features that are particularly informative"
   ]
  },
  {
   "cell_type": "code",
   "execution_count": 18,
   "id": "51ccb8d1-b80d-4752-b013-6974bfe23154",
   "metadata": {},
   "outputs": [
    {
     "name": "stdout",
     "output_type": "stream",
     "text": [
      "\tState 0\n",
      "Feature \t Means\n",
      "------------------------\n",
      "Feature1 \t -1.22\n",
      "Feature2 \t 1.28\n",
      "Feature3 \t 0.17\n",
      "Feature4 \t -0.03\n",
      "Feature5 \t -0.02\n",
      "Feature6 \t -0.01\n",
      "\n",
      "\tState 1\n",
      "Feature \t Means\n",
      "------------------------\n",
      "Feature1 \t -0.39\n",
      "Feature2 \t 0.99\n",
      "Feature3 \t 0.45\n",
      "Feature4 \t -0.17\n",
      "Feature5 \t 0.03\n",
      "Feature6 \t -0.05\n",
      "\n",
      "\tState 2\n",
      "Feature \t Means\n",
      "------------------------\n",
      "Feature1 \t 0.70\n",
      "Feature2 \t -0.78\n",
      "Feature3 \t -0.18\n",
      "Feature4 \t -0.01\n",
      "Feature5 \t 0.02\n",
      "Feature6 \t 0.01\n",
      "\n",
      "\tState 3\n",
      "Feature \t Means\n",
      "------------------------\n",
      "Feature1 \t -1.72\n",
      "Feature2 \t 1.30\n",
      "Feature3 \t 0.28\n",
      "Feature4 \t 0.34\n",
      "Feature5 \t -0.11\n",
      "Feature6 \t 0.01\n",
      "\n"
     ]
    }
   ],
   "source": [
    "# Get the means\n",
    "means = model.means_\n",
    "# means\n",
    "\n",
    "feature_names = [f\"Feature{i}\" for i in range(1, 6 + 1)]\n",
    "\n",
    "# Iterate through means and feature names to analyze any features that are particularly informative\n",
    "for state, mean_values in enumerate(means):\n",
    "    print(f\"\\tState {state}\")\n",
    "    print(f\"Feature \\t Means\")\n",
    "    print(\"------------------------\")\n",
    "    for feature, mean in zip(feature_names, mean_values):\n",
    "        print(f\"{feature} \\t {mean:.2f}\")\n",
    "    print()"
   ]
  }
 ],
 "metadata": {
  "kernelspec": {
   "display_name": "Python 3 (ipykernel)",
   "language": "python",
   "name": "python3"
  },
  "language_info": {
   "codemirror_mode": {
    "name": "ipython",
    "version": 3
   },
   "file_extension": ".py",
   "mimetype": "text/x-python",
   "name": "python",
   "nbconvert_exporter": "python",
   "pygments_lexer": "ipython3",
   "version": "3.11.6"
  }
 },
 "nbformat": 4,
 "nbformat_minor": 5
}
