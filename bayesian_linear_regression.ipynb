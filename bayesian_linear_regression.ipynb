{
 "cells": [
  {
   "cell_type": "markdown",
   "id": "313c28f3-7273-4488-a313-696ea9e376ec",
   "metadata": {},
   "source": [
    "# Bayesian Linear Regression (25 marks)"
   ]
  },
  {
   "cell_type": "code",
   "execution_count": 2,
   "id": "7f946b47-86c4-4bea-b436-b905eebac1b9",
   "metadata": {},
   "outputs": [],
   "source": [
    "# Import Libraries\n",
    "import numpy as np\n",
    "import matplotlib.pyplot as plt\n",
    "from scipy.stats import norm, zscore\n",
    "from sklearn.preprocessing import StandardScaler\n",
    "import pymc as pm\n",
    "import arviz as az\n",
    "\n",
    "# Suppress the BLAS warning\n",
    "# import warnings\n",
    "# warnings.filterwarnings(\"ignore\", category=UserWarning, module=\"pytensor.tensor.blas\")"
   ]
  },
  {
   "cell_type": "code",
   "execution_count": null,
   "id": "97c6df89-cbbe-4a6f-9e1e-80222d67486b",
   "metadata": {},
   "outputs": [],
   "source": []
  }
 ],
 "metadata": {
  "kernelspec": {
   "display_name": "Python 3 (ipykernel)",
   "language": "python",
   "name": "python3"
  },
  "language_info": {
   "codemirror_mode": {
    "name": "ipython",
    "version": 3
   },
   "file_extension": ".py",
   "mimetype": "text/x-python",
   "name": "python",
   "nbconvert_exporter": "python",
   "pygments_lexer": "ipython3",
   "version": "3.11.6"
  }
 },
 "nbformat": 4,
 "nbformat_minor": 5
}
